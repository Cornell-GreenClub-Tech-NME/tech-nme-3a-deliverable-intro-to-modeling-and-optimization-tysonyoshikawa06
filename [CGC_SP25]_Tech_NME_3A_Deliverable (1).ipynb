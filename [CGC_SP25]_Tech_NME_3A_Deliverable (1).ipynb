{
  "cells": [
    {
      "cell_type": "markdown",
      "metadata": {
        "id": "WOAEPfv7fnin"
      },
      "source": [
        "**Practice Linear Programming**\n",
        "\n",
        "Feel free to refer to the demo done in lecture: https://colab.research.google.com/drive/10yYw97pNP6SoNrXjHcijKnDB7oKyLkv5?usp=sharing\n"
      ]
    },
    {
      "cell_type": "markdown",
      "metadata": {
        "id": "u90UTfejgQzM"
      },
      "source": [
        "\n",
        "Suppose Cornell dinning halls produce **80 kg of food waste per day**.\n",
        "\n",
        "They can either:\n",
        "\n",
        "1. **Compost** it, with a cost of $0.12/kg and the impact of 2 points per kg (environmental impact :)\n",
        "\n",
        "2. **Donate** it to a local food bank with the cost of $0.25/kg and impact of 5 points per kg (social impact :)\n",
        "\n",
        "However Cornell dinning halls must 1. process **all 80 kg** of food waste every day 2. stay within a **$15 budget**\n",
        "\n",
        "Goal: Use Linear Programming to decide how much food to compost and how much to donate in order to **maximize total impact**.\n",
        "\n",
        "Please make sure you answer the following:\n",
        "  - How many kg of food to **compost**\n",
        "  - How many kg of food to **donate**\n",
        "  - What is the **total impact score**\n"
      ]
    },
    {
      "cell_type": "code",
      "execution_count": 3,
      "metadata": {
        "id": "ZnLarxm5g1QU"
      },
      "outputs": [],
      "source": [
        "#remember to make a copy of this colab before you start"
      ]
    },
    {
      "cell_type": "code",
      "execution_count": 4,
      "metadata": {
        "id": "s5o8rVH3g7PI"
      },
      "outputs": [],
      "source": [
        "import numpy as np\n",
        "from scipy.optimize import linprog"
      ]
    },
    {
      "cell_type": "code",
      "execution_count": 5,
      "metadata": {},
      "outputs": [],
      "source": [
        "# Goal:\n",
        "# We want to maximize impact points\n",
        "# Compost gives 2 impact points per kg, donating gives 5\n",
        "\n",
        "objective = [-2, -5]  # maximize 2x + 5y -> minimize -2x - 5y"
      ]
    },
    {
      "cell_type": "code",
      "execution_count": 6,
      "metadata": {},
      "outputs": [],
      "source": [
        "# Constraints:\n",
        "# Cost: 0.12 * compost + 0.25 * donate <= 15 (budget)\n",
        "# Total waste processed: compost + donate = 80 kg\n",
        "\n",
        "constraint_coeffs = [\n",
        "    [0.12, 0.25],  # Cost constraint\n",
        "    [1, 1]         # Total waste must equal 80\n",
        "]\n",
        "\n",
        "constraint_limits = [15, 80]\n",
        "\n",
        "A_ub = [\n",
        "    [0.12, 0.25],  # budget constraint\n",
        "    [1, 1],        # total <= 80\n",
        "    [-1, -1]       # total >= 80 -> -compost - donate <= -80\n",
        "]\n",
        "\n",
        "b_ub = [15, 80, -80]"
      ]
    },
    {
      "cell_type": "code",
      "execution_count": 7,
      "metadata": {},
      "outputs": [],
      "source": [
        "# Set bounds\n",
        "x_bounds = (0, None)\n",
        "y_bounds = (0, None)"
      ]
    },
    {
      "cell_type": "code",
      "execution_count": 8,
      "metadata": {},
      "outputs": [],
      "source": [
        "# Solve the problem\n",
        "solution = linprog(objective, A_ub=A_ub, b_ub=b_ub, bounds=[x_bounds, y_bounds], method='highs')"
      ]
    },
    {
      "cell_type": "code",
      "execution_count": null,
      "metadata": {},
      "outputs": [
        {
          "name": "stdout",
          "output_type": "stream",
          "text": [
            "Optimal solution found:\n",
            "Kg of food to compost: 38.46\n",
            "Kg of food to donate: 41.54\n",
            "Total impact score: 284.62\n"
          ]
        }
      ],
      "source": [
        "# Results\n",
        "if solution.success:\n",
        "    print(\"Optimal solution found:\")\n",
        "    print(f\"Kg of food to compost: {solution.x[0]:.2f}\")\n",
        "    print(f\"Kg of food to donate: {solution.x[1]:.2f}\")\n",
        "    print(f\"Total impact score: {-solution.fun:.2f}\")\n",
        "else:\n",
        "    print(\"No solution found.\")"
      ]
    },
    {
      "cell_type": "markdown",
      "metadata": {
        "id": "MVYjxd-fijPQ"
      },
      "source": [
        "Reflection (Required)\n",
        "\n",
        "**How can linear programming be incorporated into projects you are currently working on or might work on in the future in GreenClub?**  "
      ]
    },
    {
      "cell_type": "markdown",
      "metadata": {
        "id": "65ynsxbvit9S"
      },
      "source": [
        "Response:\n",
        "While I don't think linear programming can be used in the project I am currently working on, I think it'll be useful for future projects that I join. For example, with Asphalt, linear programming may be used to optimize routes while keeping in mind constraints such as fuel, time, and overall feasibility (measured in some metric). More generally, this could be used for any subteam that requires buying/spending resources to drive sustainability and is limited by budget or time constraints."
      ]
    }
  ],
  "metadata": {
    "colab": {
      "provenance": []
    },
    "kernelspec": {
      "display_name": "Python 3",
      "name": "python3"
    },
    "language_info": {
      "codemirror_mode": {
        "name": "ipython",
        "version": 3
      },
      "file_extension": ".py",
      "mimetype": "text/x-python",
      "name": "python",
      "nbconvert_exporter": "python",
      "pygments_lexer": "ipython3",
      "version": "3.11.2"
    }
  },
  "nbformat": 4,
  "nbformat_minor": 0
}
